{
  "nbformat": 4,
  "nbformat_minor": 0,
  "metadata": {
    "colab": {
      "name": "Shakespearing.ipynb",
      "provenance": [],
      "authorship_tag": "ABX9TyN0xzz+EWxjIxIFSILzzYPS",
      "include_colab_link": true
    },
    "kernelspec": {
      "name": "python3",
      "display_name": "Python 3"
    },
    "language_info": {
      "name": "python"
    },
    "accelerator": "GPU"
  },
  "cells": [
    {
      "cell_type": "markdown",
      "metadata": {
        "id": "view-in-github",
        "colab_type": "text"
      },
      "source": [
        "<a href=\"https://colab.research.google.com/github/swap-10/Poetry-Gen/blob/main/ComeYonderShakespeare.ipynb\" target=\"_parent\"><img src=\"https://colab.research.google.com/assets/colab-badge.svg\" alt=\"Open In Colab\"/></a>"
      ]
    },
    {
      "cell_type": "code",
      "metadata": {
        "id": "moOMD-CMlBFy"
      },
      "source": [
        "import csv\n",
        "import tensorflow as tf\n",
        "import numpy as np\n",
        "import matplotlib.pyplot as plt\n",
        "\n",
        "from tensorflow.keras.preprocessing.text import Tokenizer\n",
        "from tensorflow.keras.preprocessing.sequence import pad_sequences"
      ],
      "execution_count": null,
      "outputs": []
    },
    {
      "cell_type": "code",
      "metadata": {
        "colab": {
          "base_uri": "https://localhost:8080/"
        },
        "id": "iK0lwpjXlgW4",
        "outputId": "0aea25ce-7489-4b56-e6ed-1cbc65484c8b"
      },
      "source": [
        "# sonnets.txt\n",
        "!gdown --id 108jAePKK4R3BVYBbYJZ32JWUwxeMg20K"
      ],
      "execution_count": null,
      "outputs": [
        {
          "output_type": "stream",
          "name": "stdout",
          "text": [
            "Downloading...\n",
            "From: https://drive.google.com/uc?id=108jAePKK4R3BVYBbYJZ32JWUwxeMg20K\n",
            "To: /content/sonnets.txt\n",
            "\r  0% 0.00/93.6k [00:00<?, ?B/s]\r100% 93.6k/93.6k [00:00<00:00, 35.3MB/s]\n"
          ]
        }
      ]
    },
    {
      "cell_type": "code",
      "metadata": {
        "id": "S7UR6RVVlq0H"
      },
      "source": [
        "data = open('./sonnets.txt').read()\n",
        "\n",
        "data = data.lower().split('\\n')\n",
        "\n",
        "tokenizer = Tokenizer()\n",
        "tokenizer.fit_on_texts(data)\n",
        "total_words = len(tokenizer.word_index) + 1\n",
        "\n",
        "input_sequences = []\n",
        "\n",
        "for line in data:\n",
        "  this_sequence = tokenizer.texts_to_sequences([line])[0]\n",
        "  for i in range(1, len(this_sequence)):\n",
        "    input_sequences.append(this_sequence[:i+1])\n",
        "\n",
        "max_seq_len = max([len(x) for x in input_sequences])\n",
        "seq_padded = np.array(pad_sequences(input_sequences))\n",
        "\n",
        "inputs, labels = seq_padded[:, :-1], seq_padded[:, -1]\n",
        "\n",
        "labels = tf.keras.utils.to_categorical(labels, num_classes=total_words)"
      ],
      "execution_count": null,
      "outputs": []
    },
    {
      "cell_type": "code",
      "metadata": {
        "colab": {
          "base_uri": "https://localhost:8080/"
        },
        "id": "iIjhhfbMpA6V",
        "outputId": "b92880af-c4e2-4c83-fa23-0fe3bb392e20"
      },
      "source": [
        "model = tf.keras.Sequential()\n",
        "model.add(tf.keras.layers.Embedding(total_words, 100, input_length=max_seq_len-1))  # -1 because the input will be one less in length than the slices in corpus - last word is to be predicted\n",
        "model.add(tf.keras.layers.LSTM(156, return_sequences=True))\n",
        "model.add(tf.keras.layers.Dropout(0.2))\n",
        "model.add(tf.keras.layers.LSTM(96))\n",
        "model.add(tf.keras.layers.Dense(total_words/2, activation='relu', kernel_regularizer=tf.keras.regularizers.l2(0.01)))\n",
        "model.add(tf.keras.layers.Dense(total_words, activation='softmax'))\n",
        "\n",
        "model.compile(optimizer=tf.keras.optimizers.Adam(), loss='categorical_crossentropy', metrics=['accuracy'])\n",
        "\n",
        "model.summary()"
      ],
      "execution_count": null,
      "outputs": [
        {
          "output_type": "stream",
          "name": "stdout",
          "text": [
            "Model: \"sequential_4\"\n",
            "_________________________________________________________________\n",
            "Layer (type)                 Output Shape              Param #   \n",
            "=================================================================\n",
            "embedding_4 (Embedding)      (None, 10, 100)           321100    \n",
            "_________________________________________________________________\n",
            "lstm_8 (LSTM)                (None, 10, 156)           160368    \n",
            "_________________________________________________________________\n",
            "dropout_4 (Dropout)          (None, 10, 156)           0         \n",
            "_________________________________________________________________\n",
            "lstm_9 (LSTM)                (None, 96)                97152     \n",
            "_________________________________________________________________\n",
            "dense_6 (Dense)              (None, 1605)              155685    \n",
            "_________________________________________________________________\n",
            "dense_7 (Dense)              (None, 3211)              5156866   \n",
            "=================================================================\n",
            "Total params: 5,891,171\n",
            "Trainable params: 5,891,171\n",
            "Non-trainable params: 0\n",
            "_________________________________________________________________\n"
          ]
        }
      ]
    },
    {
      "cell_type": "code",
      "metadata": {
        "id": "QIFUizIk0cI9"
      },
      "source": [
        "class myCallback(tf.keras.callbacks.Callback):\n",
        "  def on_epoch_end(self, epochs, logs={}):\n",
        "    if (logs.get('accuracy') > 0.96):\n",
        "      print(\"Stopping training\")\n",
        "      self.model.stop_training = True"
      ],
      "execution_count": null,
      "outputs": []
    },
    {
      "cell_type": "code",
      "metadata": {
        "colab": {
          "base_uri": "https://localhost:8080/"
        },
        "id": "hgAKBts3rCsg",
        "outputId": "96b3da25-9b4e-4b81-efd7-91e1f6d5044a"
      },
      "source": [
        "NUM_EPOCHS = 150\n",
        "history = model.fit(inputs, labels, epochs=NUM_EPOCHS, verbose=1)"
      ],
      "execution_count": null,
      "outputs": [
        {
          "output_type": "stream",
          "name": "stdout",
          "text": [
            "Epoch 1/150\n",
            "484/484 [==============================] - 12s 19ms/step - loss: 6.9411 - accuracy: 0.0208\n",
            "Epoch 2/150\n",
            "484/484 [==============================] - 9s 18ms/step - loss: 6.5149 - accuracy: 0.0223\n",
            "Epoch 3/150\n",
            "484/484 [==============================] - 9s 18ms/step - loss: 6.4244 - accuracy: 0.0233\n",
            "Epoch 4/150\n",
            "484/484 [==============================] - 8s 17ms/step - loss: 6.3375 - accuracy: 0.0261\n",
            "Epoch 5/150\n",
            "484/484 [==============================] - 8s 17ms/step - loss: 6.2275 - accuracy: 0.0332\n",
            "Epoch 6/150\n",
            "484/484 [==============================] - 8s 17ms/step - loss: 6.1245 - accuracy: 0.0365\n",
            "Epoch 7/150\n",
            "484/484 [==============================] - 8s 16ms/step - loss: 6.0399 - accuracy: 0.0389\n",
            "Epoch 8/150\n",
            "484/484 [==============================] - 8s 16ms/step - loss: 5.9543 - accuracy: 0.0417\n",
            "Epoch 9/150\n",
            "484/484 [==============================] - 8s 16ms/step - loss: 5.8752 - accuracy: 0.0438\n",
            "Epoch 10/150\n",
            "484/484 [==============================] - 8s 16ms/step - loss: 5.7859 - accuracy: 0.0483\n",
            "Epoch 11/150\n",
            "484/484 [==============================] - 7s 15ms/step - loss: 5.7020 - accuracy: 0.0510\n",
            "Epoch 12/150\n",
            "484/484 [==============================] - 8s 15ms/step - loss: 5.6105 - accuracy: 0.0559\n",
            "Epoch 13/150\n",
            "484/484 [==============================] - 8s 16ms/step - loss: 5.5234 - accuracy: 0.0612\n",
            "Epoch 14/150\n",
            "484/484 [==============================] - 8s 16ms/step - loss: 5.4344 - accuracy: 0.0672\n",
            "Epoch 15/150\n",
            "484/484 [==============================] - 7s 15ms/step - loss: 5.3493 - accuracy: 0.0730\n",
            "Epoch 16/150\n",
            "484/484 [==============================] - 7s 15ms/step - loss: 5.2532 - accuracy: 0.0809\n",
            "Epoch 17/150\n",
            "484/484 [==============================] - 7s 15ms/step - loss: 5.1587 - accuracy: 0.0868\n",
            "Epoch 18/150\n",
            "484/484 [==============================] - 7s 15ms/step - loss: 5.0755 - accuracy: 0.0949\n",
            "Epoch 19/150\n",
            "484/484 [==============================] - 7s 15ms/step - loss: 4.9812 - accuracy: 0.1019\n",
            "Epoch 20/150\n",
            "484/484 [==============================] - 7s 15ms/step - loss: 4.8996 - accuracy: 0.1081\n",
            "Epoch 21/150\n",
            "484/484 [==============================] - 7s 15ms/step - loss: 4.8088 - accuracy: 0.1186\n",
            "Epoch 22/150\n",
            "484/484 [==============================] - 7s 15ms/step - loss: 4.7249 - accuracy: 0.1262\n",
            "Epoch 23/150\n",
            "484/484 [==============================] - 7s 15ms/step - loss: 4.6423 - accuracy: 0.1339\n",
            "Epoch 24/150\n",
            "484/484 [==============================] - 7s 15ms/step - loss: 4.5548 - accuracy: 0.1432\n",
            "Epoch 25/150\n",
            "484/484 [==============================] - 7s 15ms/step - loss: 4.4683 - accuracy: 0.1533\n",
            "Epoch 26/150\n",
            "484/484 [==============================] - 7s 15ms/step - loss: 4.3923 - accuracy: 0.1607\n",
            "Epoch 27/150\n",
            "484/484 [==============================] - 7s 15ms/step - loss: 4.3107 - accuracy: 0.1708\n",
            "Epoch 28/150\n",
            "484/484 [==============================] - 7s 15ms/step - loss: 4.2305 - accuracy: 0.1777\n",
            "Epoch 29/150\n",
            "484/484 [==============================] - 7s 15ms/step - loss: 4.1498 - accuracy: 0.1919\n",
            "Epoch 30/150\n",
            "484/484 [==============================] - 7s 15ms/step - loss: 4.0746 - accuracy: 0.1980\n",
            "Epoch 31/150\n",
            "484/484 [==============================] - 7s 15ms/step - loss: 3.9960 - accuracy: 0.2081\n",
            "Epoch 32/150\n",
            "484/484 [==============================] - 7s 15ms/step - loss: 3.9194 - accuracy: 0.2189\n",
            "Epoch 33/150\n",
            "484/484 [==============================] - 7s 15ms/step - loss: 3.8507 - accuracy: 0.2286\n",
            "Epoch 34/150\n",
            "484/484 [==============================] - 7s 15ms/step - loss: 3.7759 - accuracy: 0.2429\n",
            "Epoch 35/150\n",
            "484/484 [==============================] - 7s 15ms/step - loss: 3.7025 - accuracy: 0.2506\n",
            "Epoch 36/150\n",
            "484/484 [==============================] - 7s 15ms/step - loss: 3.6318 - accuracy: 0.2689\n",
            "Epoch 37/150\n",
            "484/484 [==============================] - 7s 15ms/step - loss: 3.5591 - accuracy: 0.2791\n",
            "Epoch 38/150\n",
            "484/484 [==============================] - 7s 15ms/step - loss: 3.4988 - accuracy: 0.2906\n",
            "Epoch 39/150\n",
            "484/484 [==============================] - 7s 15ms/step - loss: 3.4293 - accuracy: 0.3031\n",
            "Epoch 40/150\n",
            "484/484 [==============================] - 7s 15ms/step - loss: 3.3652 - accuracy: 0.3204\n",
            "Epoch 41/150\n",
            "484/484 [==============================] - 7s 15ms/step - loss: 3.2993 - accuracy: 0.3331\n",
            "Epoch 42/150\n",
            "484/484 [==============================] - 7s 15ms/step - loss: 3.2436 - accuracy: 0.3465\n",
            "Epoch 43/150\n",
            "484/484 [==============================] - 7s 15ms/step - loss: 3.1709 - accuracy: 0.3641\n",
            "Epoch 44/150\n",
            "484/484 [==============================] - 7s 15ms/step - loss: 3.1221 - accuracy: 0.3703\n",
            "Epoch 45/150\n",
            "484/484 [==============================] - 7s 15ms/step - loss: 3.0610 - accuracy: 0.3821\n",
            "Epoch 46/150\n",
            "484/484 [==============================] - 7s 15ms/step - loss: 3.0122 - accuracy: 0.3968\n",
            "Epoch 47/150\n",
            "484/484 [==============================] - 7s 15ms/step - loss: 2.9586 - accuracy: 0.4071\n",
            "Epoch 48/150\n",
            "484/484 [==============================] - 7s 15ms/step - loss: 2.9036 - accuracy: 0.4199\n",
            "Epoch 49/150\n",
            "484/484 [==============================] - 7s 15ms/step - loss: 2.8497 - accuracy: 0.4298\n",
            "Epoch 50/150\n",
            "484/484 [==============================] - 7s 15ms/step - loss: 2.7853 - accuracy: 0.4468\n",
            "Epoch 51/150\n",
            "484/484 [==============================] - 7s 15ms/step - loss: 2.7528 - accuracy: 0.4551\n",
            "Epoch 52/150\n",
            "484/484 [==============================] - 7s 15ms/step - loss: 2.6945 - accuracy: 0.4721\n",
            "Epoch 53/150\n",
            "484/484 [==============================] - 7s 15ms/step - loss: 2.6467 - accuracy: 0.4794\n",
            "Epoch 54/150\n",
            "484/484 [==============================] - 7s 15ms/step - loss: 2.6003 - accuracy: 0.4966\n",
            "Epoch 55/150\n",
            "484/484 [==============================] - 7s 15ms/step - loss: 2.5594 - accuracy: 0.5045\n",
            "Epoch 56/150\n",
            "484/484 [==============================] - 7s 15ms/step - loss: 2.5038 - accuracy: 0.5111\n",
            "Epoch 57/150\n",
            "484/484 [==============================] - 7s 15ms/step - loss: 2.4765 - accuracy: 0.5213\n",
            "Epoch 58/150\n",
            "484/484 [==============================] - 7s 15ms/step - loss: 2.4309 - accuracy: 0.5330\n",
            "Epoch 59/150\n",
            "484/484 [==============================] - 7s 15ms/step - loss: 2.3858 - accuracy: 0.5453\n",
            "Epoch 60/150\n",
            "484/484 [==============================] - 7s 15ms/step - loss: 2.3495 - accuracy: 0.5508\n",
            "Epoch 61/150\n",
            "484/484 [==============================] - 7s 15ms/step - loss: 2.2994 - accuracy: 0.5644\n",
            "Epoch 62/150\n",
            "484/484 [==============================] - 7s 15ms/step - loss: 2.2662 - accuracy: 0.5673\n",
            "Epoch 63/150\n",
            "484/484 [==============================] - 8s 16ms/step - loss: 2.2304 - accuracy: 0.5774\n",
            "Epoch 64/150\n",
            "484/484 [==============================] - 7s 15ms/step - loss: 2.2056 - accuracy: 0.5816\n",
            "Epoch 65/150\n",
            "484/484 [==============================] - 7s 15ms/step - loss: 2.1733 - accuracy: 0.5894\n",
            "Epoch 66/150\n",
            "484/484 [==============================] - 7s 15ms/step - loss: 2.1331 - accuracy: 0.6011\n",
            "Epoch 67/150\n",
            "484/484 [==============================] - 7s 15ms/step - loss: 2.0918 - accuracy: 0.6072\n",
            "Epoch 68/150\n",
            "484/484 [==============================] - 7s 15ms/step - loss: 2.0597 - accuracy: 0.6131\n",
            "Epoch 69/150\n",
            "484/484 [==============================] - 8s 16ms/step - loss: 2.0459 - accuracy: 0.6209\n",
            "Epoch 70/150\n",
            "484/484 [==============================] - 7s 15ms/step - loss: 1.9957 - accuracy: 0.6322\n",
            "Epoch 71/150\n",
            "484/484 [==============================] - 8s 16ms/step - loss: 1.9721 - accuracy: 0.6397\n",
            "Epoch 72/150\n",
            "484/484 [==============================] - 7s 15ms/step - loss: 1.9511 - accuracy: 0.6412\n",
            "Epoch 73/150\n",
            "484/484 [==============================] - 7s 15ms/step - loss: 1.9257 - accuracy: 0.6425\n",
            "Epoch 74/150\n",
            "484/484 [==============================] - 7s 15ms/step - loss: 1.9046 - accuracy: 0.6492\n",
            "Epoch 75/150\n",
            "484/484 [==============================] - 7s 15ms/step - loss: 1.8652 - accuracy: 0.6566\n",
            "Epoch 76/150\n",
            "484/484 [==============================] - 8s 16ms/step - loss: 1.8366 - accuracy: 0.6676\n",
            "Epoch 77/150\n",
            "484/484 [==============================] - 8s 16ms/step - loss: 1.8175 - accuracy: 0.6740\n",
            "Epoch 78/150\n",
            "484/484 [==============================] - 7s 15ms/step - loss: 1.7883 - accuracy: 0.6763\n",
            "Epoch 79/150\n",
            "484/484 [==============================] - 7s 15ms/step - loss: 1.7678 - accuracy: 0.6793\n",
            "Epoch 80/150\n",
            "484/484 [==============================] - 7s 15ms/step - loss: 1.7448 - accuracy: 0.6853\n",
            "Epoch 81/150\n",
            "484/484 [==============================] - 7s 15ms/step - loss: 1.7338 - accuracy: 0.6881\n",
            "Epoch 82/150\n",
            "484/484 [==============================] - 7s 15ms/step - loss: 1.7093 - accuracy: 0.6938\n",
            "Epoch 83/150\n",
            "484/484 [==============================] - 7s 15ms/step - loss: 1.6735 - accuracy: 0.7018\n",
            "Epoch 84/150\n",
            "484/484 [==============================] - 7s 15ms/step - loss: 1.6628 - accuracy: 0.7024\n",
            "Epoch 85/150\n",
            "484/484 [==============================] - 8s 16ms/step - loss: 1.6401 - accuracy: 0.7071\n",
            "Epoch 86/150\n",
            "484/484 [==============================] - 8s 16ms/step - loss: 1.6110 - accuracy: 0.7162\n",
            "Epoch 87/150\n",
            "484/484 [==============================] - 8s 16ms/step - loss: 1.6024 - accuracy: 0.7142\n",
            "Epoch 88/150\n",
            "484/484 [==============================] - 8s 16ms/step - loss: 1.5875 - accuracy: 0.7176\n",
            "Epoch 89/150\n",
            "484/484 [==============================] - 7s 15ms/step - loss: 1.5730 - accuracy: 0.7213\n",
            "Epoch 90/150\n",
            "484/484 [==============================] - 7s 15ms/step - loss: 1.5453 - accuracy: 0.7257\n",
            "Epoch 91/150\n",
            "484/484 [==============================] - 7s 15ms/step - loss: 1.5327 - accuracy: 0.7307\n",
            "Epoch 92/150\n",
            "484/484 [==============================] - 7s 15ms/step - loss: 1.5086 - accuracy: 0.7356\n",
            "Epoch 93/150\n",
            "484/484 [==============================] - 7s 15ms/step - loss: 1.4973 - accuracy: 0.7380\n",
            "Epoch 94/150\n",
            "484/484 [==============================] - 7s 15ms/step - loss: 1.4949 - accuracy: 0.7361\n",
            "Epoch 95/150\n",
            "484/484 [==============================] - 8s 16ms/step - loss: 1.4887 - accuracy: 0.7361\n",
            "Epoch 96/150\n",
            "484/484 [==============================] - 8s 15ms/step - loss: 1.4632 - accuracy: 0.7410\n",
            "Epoch 97/150\n",
            "484/484 [==============================] - 7s 15ms/step - loss: 1.4448 - accuracy: 0.7453\n",
            "Epoch 98/150\n",
            "484/484 [==============================] - 8s 16ms/step - loss: 1.4287 - accuracy: 0.7477\n",
            "Epoch 99/150\n",
            "484/484 [==============================] - 8s 16ms/step - loss: 1.4213 - accuracy: 0.7489\n",
            "Epoch 100/150\n",
            "484/484 [==============================] - 7s 15ms/step - loss: 1.3958 - accuracy: 0.7571\n",
            "Epoch 101/150\n",
            "484/484 [==============================] - 8s 16ms/step - loss: 1.3841 - accuracy: 0.7598\n",
            "Epoch 102/150\n",
            "484/484 [==============================] - 7s 15ms/step - loss: 1.3767 - accuracy: 0.7567\n",
            "Epoch 103/150\n",
            "484/484 [==============================] - 8s 15ms/step - loss: 1.3549 - accuracy: 0.7606\n",
            "Epoch 104/150\n",
            "484/484 [==============================] - 7s 15ms/step - loss: 1.3559 - accuracy: 0.7597\n",
            "Epoch 105/150\n",
            "484/484 [==============================] - 7s 15ms/step - loss: 1.3448 - accuracy: 0.7635\n",
            "Epoch 106/150\n",
            "484/484 [==============================] - 7s 15ms/step - loss: 1.3350 - accuracy: 0.7637\n",
            "Epoch 107/150\n",
            "484/484 [==============================] - 8s 16ms/step - loss: 1.3230 - accuracy: 0.7685\n",
            "Epoch 108/150\n",
            "484/484 [==============================] - 7s 15ms/step - loss: 1.3135 - accuracy: 0.7710\n",
            "Epoch 109/150\n",
            "484/484 [==============================] - 8s 16ms/step - loss: 1.3040 - accuracy: 0.7688\n",
            "Epoch 110/150\n",
            "484/484 [==============================] - 8s 16ms/step - loss: 1.2867 - accuracy: 0.7723\n",
            "Epoch 111/150\n",
            "484/484 [==============================] - 8s 16ms/step - loss: 1.2803 - accuracy: 0.7731\n",
            "Epoch 112/150\n",
            "484/484 [==============================] - 8s 16ms/step - loss: 1.2780 - accuracy: 0.7725\n",
            "Epoch 113/150\n",
            "484/484 [==============================] - 7s 15ms/step - loss: 1.2615 - accuracy: 0.7767\n",
            "Epoch 114/150\n",
            "484/484 [==============================] - 7s 15ms/step - loss: 1.2404 - accuracy: 0.7837\n",
            "Epoch 115/150\n",
            "484/484 [==============================] - 8s 16ms/step - loss: 1.2353 - accuracy: 0.7844\n",
            "Epoch 116/150\n",
            "484/484 [==============================] - 7s 15ms/step - loss: 1.2365 - accuracy: 0.7816\n",
            "Epoch 117/150\n",
            "484/484 [==============================] - 8s 16ms/step - loss: 1.2208 - accuracy: 0.7859\n",
            "Epoch 118/150\n",
            "484/484 [==============================] - 7s 15ms/step - loss: 1.2206 - accuracy: 0.7840\n",
            "Epoch 119/150\n",
            "484/484 [==============================] - 7s 15ms/step - loss: 1.2108 - accuracy: 0.7842\n",
            "Epoch 120/150\n",
            "484/484 [==============================] - 8s 16ms/step - loss: 1.2149 - accuracy: 0.7831\n",
            "Epoch 121/150\n",
            "484/484 [==============================] - 7s 15ms/step - loss: 1.2044 - accuracy: 0.7851\n",
            "Epoch 122/150\n",
            "484/484 [==============================] - 7s 15ms/step - loss: 1.2025 - accuracy: 0.7835\n",
            "Epoch 123/150\n",
            "484/484 [==============================] - 7s 15ms/step - loss: 1.1720 - accuracy: 0.7933\n",
            "Epoch 124/150\n",
            "484/484 [==============================] - 7s 15ms/step - loss: 1.1829 - accuracy: 0.7890\n",
            "Epoch 125/150\n",
            "484/484 [==============================] - 7s 15ms/step - loss: 1.1740 - accuracy: 0.7911\n",
            "Epoch 126/150\n",
            "484/484 [==============================] - 7s 15ms/step - loss: 1.1628 - accuracy: 0.7930\n",
            "Epoch 127/150\n",
            "484/484 [==============================] - 7s 15ms/step - loss: 1.1516 - accuracy: 0.7954\n",
            "Epoch 128/150\n",
            "484/484 [==============================] - 7s 15ms/step - loss: 1.1367 - accuracy: 0.7980\n",
            "Epoch 129/150\n",
            "484/484 [==============================] - 7s 15ms/step - loss: 1.1371 - accuracy: 0.7984\n",
            "Epoch 130/150\n",
            "484/484 [==============================] - 7s 15ms/step - loss: 1.1327 - accuracy: 0.7968\n",
            "Epoch 131/150\n",
            "484/484 [==============================] - 7s 15ms/step - loss: 1.1303 - accuracy: 0.7977\n",
            "Epoch 132/150\n",
            "484/484 [==============================] - 7s 15ms/step - loss: 1.1385 - accuracy: 0.7932\n",
            "Epoch 133/150\n",
            "484/484 [==============================] - 7s 15ms/step - loss: 1.1249 - accuracy: 0.7960\n",
            "Epoch 134/150\n",
            "484/484 [==============================] - 7s 15ms/step - loss: 1.1091 - accuracy: 0.8007\n",
            "Epoch 135/150\n",
            "484/484 [==============================] - 7s 15ms/step - loss: 1.1159 - accuracy: 0.8002\n",
            "Epoch 136/150\n",
            "484/484 [==============================] - 7s 15ms/step - loss: 1.0991 - accuracy: 0.8027\n",
            "Epoch 137/150\n",
            "484/484 [==============================] - 8s 16ms/step - loss: 1.0778 - accuracy: 0.8066\n",
            "Epoch 138/150\n",
            "484/484 [==============================] - 7s 15ms/step - loss: 1.0878 - accuracy: 0.8020\n",
            "Epoch 139/150\n",
            "484/484 [==============================] - 7s 15ms/step - loss: 1.0816 - accuracy: 0.8047\n",
            "Epoch 140/150\n",
            "484/484 [==============================] - 8s 16ms/step - loss: 1.0815 - accuracy: 0.8042\n",
            "Epoch 141/150\n",
            "484/484 [==============================] - 8s 16ms/step - loss: 1.0798 - accuracy: 0.8047\n",
            "Epoch 142/150\n",
            "484/484 [==============================] - 7s 15ms/step - loss: 1.0667 - accuracy: 0.8044\n",
            "Epoch 143/150\n",
            "484/484 [==============================] - 7s 15ms/step - loss: 1.0647 - accuracy: 0.8065\n",
            "Epoch 144/150\n",
            "484/484 [==============================] - 7s 15ms/step - loss: 1.0604 - accuracy: 0.8073\n",
            "Epoch 145/150\n",
            "484/484 [==============================] - 7s 15ms/step - loss: 1.0467 - accuracy: 0.8110\n",
            "Epoch 146/150\n",
            "484/484 [==============================] - 7s 15ms/step - loss: 1.0424 - accuracy: 0.8111\n",
            "Epoch 147/150\n",
            "484/484 [==============================] - 8s 15ms/step - loss: 1.0586 - accuracy: 0.8040\n",
            "Epoch 148/150\n",
            "484/484 [==============================] - 7s 15ms/step - loss: 1.0439 - accuracy: 0.8080\n",
            "Epoch 149/150\n",
            "484/484 [==============================] - 8s 16ms/step - loss: 1.0321 - accuracy: 0.8133\n",
            "Epoch 150/150\n",
            "484/484 [==============================] - 8s 16ms/step - loss: 1.0413 - accuracy: 0.8057\n"
          ]
        }
      ]
    },
    {
      "cell_type": "code",
      "metadata": {
        "colab": {
          "base_uri": "https://localhost:8080/",
          "height": 541
        },
        "id": "_faR6qPisF-s",
        "outputId": "0a6ced0a-9b83-47d6-83f3-8ee813a1fc0a"
      },
      "source": [
        "def plot_metrics(metric):\n",
        "  plt.plot(history.history[metric])\n",
        "  plt.xlabel('Num of Epochs')\n",
        "  plt.ylabel(metric)\n",
        "  plt.show()\n",
        "\n",
        "plot_metrics('accuracy')\n",
        "plot_metrics('loss')"
      ],
      "execution_count": null,
      "outputs": [
        {
          "output_type": "display_data",
          "data": {
            "image/png": "[encoded data removed]",
            "text/plain": [
              "<Figure size 432x288 with 1 Axes>"
            ]
          },
          "metadata": {
            "needs_background": "light"
          }
        },
        {
          "output_type": "display_data",
          "data": {
            "image/png": "[encoded data removed]",
            "text/plain": [
              "<Figure size 432x288 with 1 Axes>"
            ]
          },
          "metadata": {
            "needs_background": "light"
          }
        }
      ]
    },
    {
      "cell_type": "code",
      "metadata": {
        "colab": {
          "base_uri": "https://localhost:8080/"
        },
        "id": "D1-vbuKWsxyb",
        "outputId": "5ca29c85-516f-435d-93b4-5262632a009f"
      },
      "source": [
        "seed_text = \"Oh come yonder lad of the rains\"\n",
        "next_words = 100\n",
        "\n",
        "\n",
        "for i in range(next_words):\n",
        "  seq = tokenizer.texts_to_sequences([seed_text])[0]\n",
        "  seq_pad = pad_sequences([seq], maxlen=max_seq_len, padding='pre')\n",
        "  predicted = model.predict(seq_pad, verbose=0)\n",
        "  classes = np.argmax(predicted, axis=1)\n",
        "  output = \"\"\n",
        "  for word, index in tokenizer.word_index.items():\n",
        "    if index == classes:\n",
        "      output += word\n",
        "      break\n",
        "  seed_text += \" \"  + output\n",
        "\n",
        "print(seed_text)"
      ],
      "execution_count": null,
      "outputs": [
        {
          "output_type": "stream",
          "name": "stdout",
          "text": [
            "Oh come yonder lad of the rains first i best in every steel pride esteem date scope had latch date hate of rolling sell approve cross cross cross cross kings mind weeds staineth faith light pride unbred knife knife moan ' to find me view to make away kind new wrong days fullness brought of sun invention disdain disdain gems staineth staineth moan of a tomb brow doom of wind disdain debt esteem esteem moan of moan days kings faith ' on time must you will none did lie so die to find 'will friend ' ' him by their glory but me keep so chary seen\n"
          ]
        }
      ]
    }
  ]
}